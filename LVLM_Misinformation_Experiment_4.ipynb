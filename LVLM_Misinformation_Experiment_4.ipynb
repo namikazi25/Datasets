{
  "nbformat": 4,
  "nbformat_minor": 0,
  "metadata": {
    "colab": {
      "provenance": [],
      "machine_shape": "hm",
      "gpuType": "A100",
      "authorship_tag": "ABX9TyOPPNE3cHtUOWGcKV+1aMQz",
      "include_colab_link": true
    },
    "kernelspec": {
      "name": "python3",
      "display_name": "Python 3"
    },
    "language_info": {
      "name": "python"
    },
    "accelerator": "GPU",
    "widgets": {
      "application/vnd.jupyter.widget-state+json": {
        "8fa17153e02f49b4ad7aaffca228129d": {
          "model_module": "@jupyter-widgets/controls",
          "model_name": "HBoxModel",
          "model_module_version": "1.5.0",
          "state": {
            "_dom_classes": [],
            "_model_module": "@jupyter-widgets/controls",
            "_model_module_version": "1.5.0",
            "_model_name": "HBoxModel",
            "_view_count": null,
            "_view_module": "@jupyter-widgets/controls",
            "_view_module_version": "1.5.0",
            "_view_name": "HBoxView",
            "box_style": "",
            "children": [
              "IPY_MODEL_8bd5444b85fc4220b5fe992503ec6105",
              "IPY_MODEL_e54d1bc13df843ef9b2da1b5c7a9cb2b",
              "IPY_MODEL_70f9585b378b47e69d8d17ca68ea22b5"
            ],
            "layout": "IPY_MODEL_f442042754a743c1a7fdbe55fe2b25a5"
          }
        },
        "8bd5444b85fc4220b5fe992503ec6105": {
          "model_module": "@jupyter-widgets/controls",
          "model_name": "HTMLModel",
          "model_module_version": "1.5.0",
          "state": {
            "_dom_classes": [],
            "_model_module": "@jupyter-widgets/controls",
            "_model_module_version": "1.5.0",
            "_model_name": "HTMLModel",
            "_view_count": null,
            "_view_module": "@jupyter-widgets/controls",
            "_view_module_version": "1.5.0",
            "_view_name": "HTMLView",
            "description": "",
            "description_tooltip": null,
            "layout": "IPY_MODEL_a60ce3e77cc3491d95b3561197d460f7",
            "placeholder": "​",
            "style": "IPY_MODEL_1a70eba61ed24245939a9e3571ff6617",
            "value": "Loading checkpoint shards: 100%"
          }
        },
        "e54d1bc13df843ef9b2da1b5c7a9cb2b": {
          "model_module": "@jupyter-widgets/controls",
          "model_name": "FloatProgressModel",
          "model_module_version": "1.5.0",
          "state": {
            "_dom_classes": [],
            "_model_module": "@jupyter-widgets/controls",
            "_model_module_version": "1.5.0",
            "_model_name": "FloatProgressModel",
            "_view_count": null,
            "_view_module": "@jupyter-widgets/controls",
            "_view_module_version": "1.5.0",
            "_view_name": "ProgressView",
            "bar_style": "success",
            "description": "",
            "description_tooltip": null,
            "layout": "IPY_MODEL_a738288377ad4e15836488b0e08735d6",
            "max": 2,
            "min": 0,
            "orientation": "horizontal",
            "style": "IPY_MODEL_f0f60adcfa1c4cadb9875fecc9a3a0e5",
            "value": 2
          }
        },
        "70f9585b378b47e69d8d17ca68ea22b5": {
          "model_module": "@jupyter-widgets/controls",
          "model_name": "HTMLModel",
          "model_module_version": "1.5.0",
          "state": {
            "_dom_classes": [],
            "_model_module": "@jupyter-widgets/controls",
            "_model_module_version": "1.5.0",
            "_model_name": "HTMLModel",
            "_view_count": null,
            "_view_module": "@jupyter-widgets/controls",
            "_view_module_version": "1.5.0",
            "_view_name": "HTMLView",
            "description": "",
            "description_tooltip": null,
            "layout": "IPY_MODEL_24e859df6d6c4157b1e2b80442d8463a",
            "placeholder": "​",
            "style": "IPY_MODEL_c5c0e38caef341c78ffff1223d2a37a6",
            "value": " 2/2 [00:01&lt;00:00,  1.50it/s]"
          }
        },
        "f442042754a743c1a7fdbe55fe2b25a5": {
          "model_module": "@jupyter-widgets/base",
          "model_name": "LayoutModel",
          "model_module_version": "1.2.0",
          "state": {
            "_model_module": "@jupyter-widgets/base",
            "_model_module_version": "1.2.0",
            "_model_name": "LayoutModel",
            "_view_count": null,
            "_view_module": "@jupyter-widgets/base",
            "_view_module_version": "1.2.0",
            "_view_name": "LayoutView",
            "align_content": null,
            "align_items": null,
            "align_self": null,
            "border": null,
            "bottom": null,
            "display": null,
            "flex": null,
            "flex_flow": null,
            "grid_area": null,
            "grid_auto_columns": null,
            "grid_auto_flow": null,
            "grid_auto_rows": null,
            "grid_column": null,
            "grid_gap": null,
            "grid_row": null,
            "grid_template_areas": null,
            "grid_template_columns": null,
            "grid_template_rows": null,
            "height": null,
            "justify_content": null,
            "justify_items": null,
            "left": null,
            "margin": null,
            "max_height": null,
            "max_width": null,
            "min_height": null,
            "min_width": null,
            "object_fit": null,
            "object_position": null,
            "order": null,
            "overflow": null,
            "overflow_x": null,
            "overflow_y": null,
            "padding": null,
            "right": null,
            "top": null,
            "visibility": null,
            "width": null
          }
        },
        "a60ce3e77cc3491d95b3561197d460f7": {
          "model_module": "@jupyter-widgets/base",
          "model_name": "LayoutModel",
          "model_module_version": "1.2.0",
          "state": {
            "_model_module": "@jupyter-widgets/base",
            "_model_module_version": "1.2.0",
            "_model_name": "LayoutModel",
            "_view_count": null,
            "_view_module": "@jupyter-widgets/base",
            "_view_module_version": "1.2.0",
            "_view_name": "LayoutView",
            "align_content": null,
            "align_items": null,
            "align_self": null,
            "border": null,
            "bottom": null,
            "display": null,
            "flex": null,
            "flex_flow": null,
            "grid_area": null,
            "grid_auto_columns": null,
            "grid_auto_flow": null,
            "grid_auto_rows": null,
            "grid_column": null,
            "grid_gap": null,
            "grid_row": null,
            "grid_template_areas": null,
            "grid_template_columns": null,
            "grid_template_rows": null,
            "height": null,
            "justify_content": null,
            "justify_items": null,
            "left": null,
            "margin": null,
            "max_height": null,
            "max_width": null,
            "min_height": null,
            "min_width": null,
            "object_fit": null,
            "object_position": null,
            "order": null,
            "overflow": null,
            "overflow_x": null,
            "overflow_y": null,
            "padding": null,
            "right": null,
            "top": null,
            "visibility": null,
            "width": null
          }
        },
        "1a70eba61ed24245939a9e3571ff6617": {
          "model_module": "@jupyter-widgets/controls",
          "model_name": "DescriptionStyleModel",
          "model_module_version": "1.5.0",
          "state": {
            "_model_module": "@jupyter-widgets/controls",
            "_model_module_version": "1.5.0",
            "_model_name": "DescriptionStyleModel",
            "_view_count": null,
            "_view_module": "@jupyter-widgets/base",
            "_view_module_version": "1.2.0",
            "_view_name": "StyleView",
            "description_width": ""
          }
        },
        "a738288377ad4e15836488b0e08735d6": {
          "model_module": "@jupyter-widgets/base",
          "model_name": "LayoutModel",
          "model_module_version": "1.2.0",
          "state": {
            "_model_module": "@jupyter-widgets/base",
            "_model_module_version": "1.2.0",
            "_model_name": "LayoutModel",
            "_view_count": null,
            "_view_module": "@jupyter-widgets/base",
            "_view_module_version": "1.2.0",
            "_view_name": "LayoutView",
            "align_content": null,
            "align_items": null,
            "align_self": null,
            "border": null,
            "bottom": null,
            "display": null,
            "flex": null,
            "flex_flow": null,
            "grid_area": null,
            "grid_auto_columns": null,
            "grid_auto_flow": null,
            "grid_auto_rows": null,
            "grid_column": null,
            "grid_gap": null,
            "grid_row": null,
            "grid_template_areas": null,
            "grid_template_columns": null,
            "grid_template_rows": null,
            "height": null,
            "justify_content": null,
            "justify_items": null,
            "left": null,
            "margin": null,
            "max_height": null,
            "max_width": null,
            "min_height": null,
            "min_width": null,
            "object_fit": null,
            "object_position": null,
            "order": null,
            "overflow": null,
            "overflow_x": null,
            "overflow_y": null,
            "padding": null,
            "right": null,
            "top": null,
            "visibility": null,
            "width": null
          }
        },
        "f0f60adcfa1c4cadb9875fecc9a3a0e5": {
          "model_module": "@jupyter-widgets/controls",
          "model_name": "ProgressStyleModel",
          "model_module_version": "1.5.0",
          "state": {
            "_model_module": "@jupyter-widgets/controls",
            "_model_module_version": "1.5.0",
            "_model_name": "ProgressStyleModel",
            "_view_count": null,
            "_view_module": "@jupyter-widgets/base",
            "_view_module_version": "1.2.0",
            "_view_name": "StyleView",
            "bar_color": null,
            "description_width": ""
          }
        },
        "24e859df6d6c4157b1e2b80442d8463a": {
          "model_module": "@jupyter-widgets/base",
          "model_name": "LayoutModel",
          "model_module_version": "1.2.0",
          "state": {
            "_model_module": "@jupyter-widgets/base",
            "_model_module_version": "1.2.0",
            "_model_name": "LayoutModel",
            "_view_count": null,
            "_view_module": "@jupyter-widgets/base",
            "_view_module_version": "1.2.0",
            "_view_name": "LayoutView",
            "align_content": null,
            "align_items": null,
            "align_self": null,
            "border": null,
            "bottom": null,
            "display": null,
            "flex": null,
            "flex_flow": null,
            "grid_area": null,
            "grid_auto_columns": null,
            "grid_auto_flow": null,
            "grid_auto_rows": null,
            "grid_column": null,
            "grid_gap": null,
            "grid_row": null,
            "grid_template_areas": null,
            "grid_template_columns": null,
            "grid_template_rows": null,
            "height": null,
            "justify_content": null,
            "justify_items": null,
            "left": null,
            "margin": null,
            "max_height": null,
            "max_width": null,
            "min_height": null,
            "min_width": null,
            "object_fit": null,
            "object_position": null,
            "order": null,
            "overflow": null,
            "overflow_x": null,
            "overflow_y": null,
            "padding": null,
            "right": null,
            "top": null,
            "visibility": null,
            "width": null
          }
        },
        "c5c0e38caef341c78ffff1223d2a37a6": {
          "model_module": "@jupyter-widgets/controls",
          "model_name": "DescriptionStyleModel",
          "model_module_version": "1.5.0",
          "state": {
            "_model_module": "@jupyter-widgets/controls",
            "_model_module_version": "1.5.0",
            "_model_name": "DescriptionStyleModel",
            "_view_count": null,
            "_view_module": "@jupyter-widgets/base",
            "_view_module_version": "1.2.0",
            "_view_name": "StyleView",
            "description_width": ""
          }
        }
      }
    }
  },
  "cells": [
    {
      "cell_type": "markdown",
      "metadata": {
        "id": "view-in-github",
        "colab_type": "text"
      },
      "source": [
        "<a href=\"https://colab.research.google.com/github/namikazi25/Datasets/blob/main/LVLM_Misinformation_Experiment_4.ipynb\" target=\"_parent\"><img src=\"https://colab.research.google.com/assets/colab-badge.svg\" alt=\"Open In Colab\"/></a>"
      ]
    },
    {
      "cell_type": "code",
      "execution_count": 12,
      "metadata": {
        "colab": {
          "base_uri": "https://localhost:8080/"
        },
        "id": "mGFgFyZ-oVN6",
        "outputId": "989f00e3-1c0f-43a9-e6ff-c431b0917429"
      },
      "outputs": [
        {
          "output_type": "stream",
          "name": "stdout",
          "text": [
            "Drive already mounted at /content/drive; to attempt to forcibly remount, call drive.mount(\"/content/drive\", force_remount=True).\n"
          ]
        }
      ],
      "source": [
        "# Mount Google Drive\n",
        "from google.colab import drive\n",
        "drive.mount('/content/drive')"
      ]
    },
    {
      "cell_type": "code",
      "source": [
        "!pip install torch torchvision transformers pillow sentence-transformers"
      ],
      "metadata": {
        "colab": {
          "base_uri": "https://localhost:8080/"
        },
        "id": "UC6yD8Pgo0q2",
        "outputId": "b73b57d6-d42e-4908-9d2a-cc03e57976a7"
      },
      "execution_count": 13,
      "outputs": [
        {
          "output_type": "stream",
          "name": "stdout",
          "text": [
            "Requirement already satisfied: torch in /usr/local/lib/python3.10/dist-packages (2.5.1+cu121)\n",
            "Requirement already satisfied: torchvision in /usr/local/lib/python3.10/dist-packages (0.20.1+cu121)\n",
            "Requirement already satisfied: transformers in /usr/local/lib/python3.10/dist-packages (4.46.3)\n",
            "Requirement already satisfied: pillow in /usr/local/lib/python3.10/dist-packages (11.0.0)\n",
            "Requirement already satisfied: sentence-transformers in /usr/local/lib/python3.10/dist-packages (3.2.1)\n",
            "Requirement already satisfied: filelock in /usr/local/lib/python3.10/dist-packages (from torch) (3.16.1)\n",
            "Requirement already satisfied: typing-extensions>=4.8.0 in /usr/local/lib/python3.10/dist-packages (from torch) (4.12.2)\n",
            "Requirement already satisfied: networkx in /usr/local/lib/python3.10/dist-packages (from torch) (3.4.2)\n",
            "Requirement already satisfied: jinja2 in /usr/local/lib/python3.10/dist-packages (from torch) (3.1.4)\n",
            "Requirement already satisfied: fsspec in /usr/local/lib/python3.10/dist-packages (from torch) (2024.10.0)\n",
            "Requirement already satisfied: sympy==1.13.1 in /usr/local/lib/python3.10/dist-packages (from torch) (1.13.1)\n",
            "Requirement already satisfied: mpmath<1.4,>=1.1.0 in /usr/local/lib/python3.10/dist-packages (from sympy==1.13.1->torch) (1.3.0)\n",
            "Requirement already satisfied: numpy in /usr/local/lib/python3.10/dist-packages (from torchvision) (1.26.4)\n",
            "Requirement already satisfied: huggingface-hub<1.0,>=0.23.2 in /usr/local/lib/python3.10/dist-packages (from transformers) (0.26.3)\n",
            "Requirement already satisfied: packaging>=20.0 in /usr/local/lib/python3.10/dist-packages (from transformers) (24.2)\n",
            "Requirement already satisfied: pyyaml>=5.1 in /usr/local/lib/python3.10/dist-packages (from transformers) (6.0.2)\n",
            "Requirement already satisfied: regex!=2019.12.17 in /usr/local/lib/python3.10/dist-packages (from transformers) (2024.9.11)\n",
            "Requirement already satisfied: requests in /usr/local/lib/python3.10/dist-packages (from transformers) (2.32.3)\n",
            "Requirement already satisfied: tokenizers<0.21,>=0.20 in /usr/local/lib/python3.10/dist-packages (from transformers) (0.20.3)\n",
            "Requirement already satisfied: safetensors>=0.4.1 in /usr/local/lib/python3.10/dist-packages (from transformers) (0.4.5)\n",
            "Requirement already satisfied: tqdm>=4.27 in /usr/local/lib/python3.10/dist-packages (from transformers) (4.66.6)\n",
            "Requirement already satisfied: scikit-learn in /usr/local/lib/python3.10/dist-packages (from sentence-transformers) (1.5.2)\n",
            "Requirement already satisfied: scipy in /usr/local/lib/python3.10/dist-packages (from sentence-transformers) (1.13.1)\n",
            "Requirement already satisfied: MarkupSafe>=2.0 in /usr/local/lib/python3.10/dist-packages (from jinja2->torch) (3.0.2)\n",
            "Requirement already satisfied: charset-normalizer<4,>=2 in /usr/local/lib/python3.10/dist-packages (from requests->transformers) (3.4.0)\n",
            "Requirement already satisfied: idna<4,>=2.5 in /usr/local/lib/python3.10/dist-packages (from requests->transformers) (3.10)\n",
            "Requirement already satisfied: urllib3<3,>=1.21.1 in /usr/local/lib/python3.10/dist-packages (from requests->transformers) (2.2.3)\n",
            "Requirement already satisfied: certifi>=2017.4.17 in /usr/local/lib/python3.10/dist-packages (from requests->transformers) (2024.8.30)\n",
            "Requirement already satisfied: joblib>=1.2.0 in /usr/local/lib/python3.10/dist-packages (from scikit-learn->sentence-transformers) (1.4.2)\n",
            "Requirement already satisfied: threadpoolctl>=3.1.0 in /usr/local/lib/python3.10/dist-packages (from scikit-learn->sentence-transformers) (3.5.0)\n"
          ]
        }
      ]
    },
    {
      "cell_type": "code",
      "source": [
        "import torch\n",
        "from transformers import InstructBlipProcessor, InstructBlipForConditionalGeneration\n",
        "from PIL import Image\n",
        "from sentence_transformers import SentenceTransformer, util\n",
        "import os\n",
        "import pandas as pd\n",
        "from torch.utils.data import DataLoader\n",
        "from torchvision import transforms"
      ],
      "metadata": {
        "id": "uH6VF0y3pmrM"
      },
      "execution_count": 3,
      "outputs": []
    },
    {
      "cell_type": "code",
      "source": [
        "class MochegDataset(torch.utils.data.Dataset):\n",
        "    def __init__(self, images_dir, img_evidence_csv, corpus_csv, transform=None, limit=None):\n",
        "        self.images_dir = images_dir\n",
        "        self.img_evidence_data = pd.read_csv(img_evidence_csv)\n",
        "        self.corpus_data = pd.read_csv(corpus_csv)\n",
        "        self.transform = transform or transforms.ToTensor()  # Default to tensor conversion\n",
        "        self.data = self._prepare_data()\n",
        "\n",
        "        if limit is not None:\n",
        "            self.data = self.data.head(limit)\n",
        "\n",
        "    def _prepare_data(self):\n",
        "        return self.img_evidence_data.merge(\n",
        "            self.corpus_data, left_on=\"TOPIC\", right_on=\"claim_id\", how=\"inner\"\n",
        "        )\n",
        "\n",
        "    def __len__(self):\n",
        "        return len(self.data)\n",
        "\n",
        "    def __getitem__(self, idx):\n",
        "        row = self.data.iloc[idx]\n",
        "        image_path = os.path.join(self.images_dir, row[\"DOCUMENT#\"])\n",
        "        headline = row[\"Headline\"]\n",
        "\n",
        "        image = Image.open(image_path).convert(\"RGB\")\n",
        "        transformed_image = self.transform(image) if self.transform else image\n",
        "        return transformed_image, headline\n",
        "\n",
        "    def check_integrity(self):\n",
        "      # Get a set of all files in the images directory\n",
        "      all_files = set(os.listdir(self.images_dir))\n",
        "\n",
        "      missing_images = []\n",
        "      for _, row in self.data.iterrows():\n",
        "          img_name = row[\"DOCUMENT#\"]\n",
        "          if img_name not in all_files:\n",
        "              missing_images.append(os.path.join(self.images_dir, img_name))\n",
        "\n",
        "      if missing_images:\n",
        "          print(f\"Missing Images: {missing_images}\")\n",
        "          return False\n",
        "      return True\n",
        "\n",
        "\n",
        "\n",
        "    # def check_integrity(self):\n",
        "    #     missing_images = [\n",
        "    #         os.path.join(self.images_dir, row[\"DOCUMENT#\"])\n",
        "    #         for _, row in self.data.iterrows()\n",
        "    #         if not os.path.exists(os.path.join(self.images_dir, row[\"DOCUMENT#\"]))\n",
        "    #     ]\n",
        "\n",
        "    #     if missing_images:\n",
        "    #         print(f\"Missing Images: {missing_images}\")\n",
        "    #         return False\n",
        "        # return True"
      ],
      "metadata": {
        "id": "cEafJW10ptT0"
      },
      "execution_count": 4,
      "outputs": []
    },
    {
      "cell_type": "code",
      "source": [
        "def load_instruct_blip_model():\n",
        "    \"\"\"\n",
        "    Load InstructBLIP model and processor.\n",
        "    Modify the model name to a suitable InstructBLIP variant from Hugging Face Hub.\n",
        "    For example: \"Salesforce/instructblip-vicuna-7b\" or a smaller variant if available.\n",
        "    \"\"\"\n",
        "    device = \"cuda\" if torch.cuda.is_available() else \"cpu\"\n",
        "    model_name = \"Salesforce/instructblip-flan-t5-xl\"  # example model, check HF hub for actual model names\n",
        "    processor = InstructBlipProcessor.from_pretrained(model_name)\n",
        "    model = InstructBlipForConditionalGeneration.from_pretrained(model_name).to(device)\n",
        "    return model, processor, device"
      ],
      "metadata": {
        "id": "gGTeM-TJqLZa"
      },
      "execution_count": 5,
      "outputs": []
    },
    {
      "cell_type": "code",
      "source": [
        "def generate_image_caption(model, processor, device, image):\n",
        "    \"\"\"\n",
        "    Generate a caption from the image using InstructBLIP.\n",
        "    \"\"\"\n",
        "    # You can prompt InstructBLIP with something like \"Describe this image.\"\n",
        "    prompt = \"Describe this image.\"\n",
        "    inputs = processor(images=image, text=prompt, return_tensors=\"pt\").to(device)\n",
        "    outputs = model.generate(**inputs, max_new_tokens=50)\n",
        "    caption = processor.decode(outputs[0], skip_special_tokens=True)\n",
        "    return caption"
      ],
      "metadata": {
        "id": "b5DYIVp9qNOK"
      },
      "execution_count": 6,
      "outputs": []
    },
    {
      "cell_type": "code",
      "source": [
        "def compute_similarity(text1, text2, embedder):\n",
        "    \"\"\"\n",
        "    Compute cosine similarity between two texts using a sentence transformer embedder.\n",
        "    \"\"\"\n",
        "    embeddings = embedder.encode([text1, text2], convert_to_tensor=True)\n",
        "    return float(util.cos_sim(embeddings[0], embeddings[1]))"
      ],
      "metadata": {
        "id": "tPo1RwxbqROK"
      },
      "execution_count": 7,
      "outputs": []
    },
    {
      "cell_type": "code",
      "source": [
        "def main():\n",
        "    images_dir = \"/content/drive/MyDrive/MOCHEG/extracted/mocheg/images\"\n",
        "    corpus_csv = \"/content/drive/MyDrive/MOCHEG/extracted/mocheg/train/Corpus2.csv\"\n",
        "    img_evidence_csv = \"/content/drive/MyDrive/MOCHEG/extracted/mocheg/train/img_evidence_qrels.csv\"\n",
        "\n",
        "    transform = transforms.Compose([\n",
        "        transforms.Resize((224, 224)),\n",
        "        transforms.ToTensor(),\n",
        "    ])\n",
        "    dataset = MochegDataset(images_dir, img_evidence_csv, corpus_csv, transform=transform, limit=10)\n",
        "\n",
        "    # if not dataset.check_integrity():\n",
        "    #     print(\"Dataset integrity check failed.\")\n",
        "    #     return\n",
        "\n",
        "    dataloader = DataLoader(dataset, batch_size=5, shuffle=True)\n",
        "\n",
        "    # Load InstructBLIP model\n",
        "    model, processor, device = load_instruct_blip_model()\n",
        "\n",
        "    # Load a sentence transformer for semantic similarity\n",
        "    embedder = SentenceTransformer('all-mpnet-base-v2')\n",
        "\n",
        "    # Process a few samples\n",
        "    for batch in dataloader:\n",
        "        image_tensor, headlines = batch\n",
        "        batch_size = image_tensor.size(0)\n",
        "\n",
        "        for i in range(batch_size):\n",
        "          single_image_tensor = image_tensor[i]\n",
        "          image_np = single_image_tensor.permute(1, 2, 0).numpy()\n",
        "          pil_image = Image.fromarray((image_np * 255).astype('uint8'))\n",
        "\n",
        "          # Now generate caption and compute similarity for this single image-headline pair\n",
        "          caption = generate_image_caption(model, processor, device, pil_image)\n",
        "          headline = headlines[i]\n",
        "\n",
        "          similarity = compute_similarity(caption, headline, embedder)\n",
        "          print(f\"Generated Caption: {caption}\")\n",
        "          print(f\"Given Headline: {headline}\")\n",
        "          print(f\"Cosine Similarity: {similarity}\")\n",
        "\n",
        "          threshold = 0.3\n",
        "          if similarity > threshold:\n",
        "              print(\"The image and the headline are likely consistent.\")\n",
        "          else:\n",
        "              print(\"The image and the headline are likely not consistent.\")\n",
        "\n",
        "\n",
        "          # # Generate caption for the image\n",
        "          # try:\n",
        "          #     caption = generate_image_caption(model, processor, device, pil_image)\n",
        "          #     print(f\"Generated Caption: {caption}\")\n",
        "          #     print(f\"Given Headline: {headline[0]}\")\n",
        "\n",
        "          #     # Compute similarity\n",
        "          #     similarity = compute_similarity(caption, headline[0], embedder)\n",
        "          #     print(f\"Cosine Similarity: {similarity}\")\n",
        "\n",
        "          #     # Decide on a threshold for \"consistency\"\n",
        "          #     threshold = 0.3  # Adjust based on experimentation\n",
        "          #     if similarity > threshold:\n",
        "          #         print(\"The image and the headline are likely consistent.\")\n",
        "          #     else:\n",
        "          #         print(\"The image and the headline are likely not consistent.\")\n",
        "\n",
        "          # except Exception as e:\n",
        "          #     print(f\"Error in generating caption or computing similarity: {e}\")\n",
        "\n",
        "          #break  # Test on one batch only"
      ],
      "metadata": {
        "id": "-3mrVcULqVPa"
      },
      "execution_count": 24,
      "outputs": []
    },
    {
      "cell_type": "code",
      "source": [
        "if __name__ == \"__main__\":\n",
        "    main()"
      ],
      "metadata": {
        "colab": {
          "base_uri": "https://localhost:8080/",
          "height": 763,
          "referenced_widgets": [
            "8fa17153e02f49b4ad7aaffca228129d",
            "8bd5444b85fc4220b5fe992503ec6105",
            "e54d1bc13df843ef9b2da1b5c7a9cb2b",
            "70f9585b378b47e69d8d17ca68ea22b5",
            "f442042754a743c1a7fdbe55fe2b25a5",
            "a60ce3e77cc3491d95b3561197d460f7",
            "1a70eba61ed24245939a9e3571ff6617",
            "a738288377ad4e15836488b0e08735d6",
            "f0f60adcfa1c4cadb9875fecc9a3a0e5",
            "24e859df6d6c4157b1e2b80442d8463a",
            "c5c0e38caef341c78ffff1223d2a37a6"
          ]
        },
        "id": "mWi4vJImqbv7",
        "outputId": "abc17694-e958-4eed-8fe2-c9685c9c66e3"
      },
      "execution_count": 25,
      "outputs": [
        {
          "output_type": "display_data",
          "data": {
            "text/plain": [
              "Loading checkpoint shards:   0%|          | 0/2 [00:00<?, ?it/s]"
            ],
            "application/vnd.jupyter.widget-view+json": {
              "version_major": 2,
              "version_minor": 0,
              "model_id": "8fa17153e02f49b4ad7aaffca228129d"
            }
          },
          "metadata": {}
        },
        {
          "output_type": "stream",
          "name": "stdout",
          "text": [
            "Generated Caption: The image features a Twitter page with a photo of a woman with a blue eye and a white background. The image is part of a larger social media feed, with a number of tweets surrounding the image. The\n",
            "Given Headline: Did Melania Trump 'Like' a Tweet Lampooning Her Relationship With President Trump? The personal Twitter account for Melania Trump 'liked' (then quickly 'unliked') a post speculating about her relationship with her husband. Dan Evon Published 3 May 2017 Share on Facebook Share on Twitter Share on Pinterest Share on Reddit Share via Email\n",
            "Cosine Similarity: 0.34396862983703613\n",
            "The image and the headline are likely consistent.\n",
            "Generated Caption: The image features a man in an orange prison shirt, with his eyes closed and his hair pulled back. The man is wearing a brown shirt, which is likely a prison uniform. The man is wearing a brown shirt, which is\n",
            "Given Headline: Did a Science Textbook Mistake Africa for South America? An image of a shockingly inaccurate map may have once appeared in a textbook, but the current version of that work is correct. Dan Evon Share on Facebook Share on Twitter Share on Pinterest Share on Reddit Share via Email\n",
            "Cosine Similarity: 0.07413254678249359\n",
            "The image and the headline are likely not consistent.\n",
            "Generated Caption: A map showing the distribution of birds in the United States is displayed on a poster. The map is part of a lesson plan for a geography class.\n",
            "Given Headline: Did a Science Textbook Mistake Africa for South America? An image of a shockingly inaccurate map may have once appeared in a textbook, but the current version of that work is correct. Dan Evon Share on Facebook Share on Twitter Share on Pinterest Share on Reddit Share via Email\n",
            "Cosine Similarity: 0.30938521027565\n",
            "The image and the headline are likely consistent.\n",
            "Generated Caption: A map showing the distribution of birds in the United States is displayed on a poster. The map is part of a lesson plan for a geography class.\n",
            "Given Headline: Did Melania Trump 'Like' a Tweet Lampooning Her Relationship With President Trump? The personal Twitter account for Melania Trump 'liked' (then quickly 'unliked') a post speculating about her relationship with her husband. Dan Evon Published 3 May 2017 Share on Facebook Share on Twitter Share on Pinterest Share on Reddit Share via Email\n",
            "Cosine Similarity: 7.929932326078415e-05\n",
            "The image and the headline are likely not consistent.\n",
            "Generated Caption: A map showing the distribution of the continents is displayed on a poster.\n",
            "Given Headline: Did a Science Textbook Mistake Africa for South America? An image of a shockingly inaccurate map may have once appeared in a textbook, but the current version of that work is correct. Dan Evon Share on Facebook Share on Twitter Share on Pinterest Share on Reddit Share via Email\n",
            "Cosine Similarity: 0.47293317317962646\n",
            "The image and the headline are likely consistent.\n",
            "Generated Caption: A map showing the distribution of birds in the United States is displayed on a poster. The map is part of a lesson plan for a geography class.\n",
            "Given Headline: Did Melania Trump 'Like' a Tweet Lampooning Her Relationship With President Trump? The personal Twitter account for Melania Trump 'liked' (then quickly 'unliked') a post speculating about her relationship with her husband. Dan Evon Published 3 May 2017 Share on Facebook Share on Twitter Share on Pinterest Share on Reddit Share via Email\n",
            "Cosine Similarity: 7.929932326078415e-05\n",
            "The image and the headline are likely not consistent.\n",
            "Generated Caption: The image features a Twitter page with a photo of a woman with a blue eye and a white background. The image is part of a larger social media feed, with a number of tweets surrounding the image. The\n",
            "Given Headline: Did Melania Trump 'Like' a Tweet Lampooning Her Relationship With President Trump? The personal Twitter account for Melania Trump 'liked' (then quickly 'unliked') a post speculating about her relationship with her husband. Dan Evon Published 3 May 2017 Share on Facebook Share on Twitter Share on Pinterest Share on Reddit Share via Email\n",
            "Cosine Similarity: 0.34396862983703613\n",
            "The image and the headline are likely consistent.\n",
            "Generated Caption: The image shows the first lady melania trump speaking at a podium. She is wearing a white dress and is smiling at the camera.\n",
            "Given Headline: Did Melania Trump 'Like' a Tweet Lampooning Her Relationship With President Trump? The personal Twitter account for Melania Trump 'liked' (then quickly 'unliked') a post speculating about her relationship with her husband. Dan Evon Published 3 May 2017 Share on Facebook Share on Twitter Share on Pinterest Share on Reddit Share via Email\n",
            "Cosine Similarity: 0.37595534324645996\n",
            "The image and the headline are likely consistent.\n",
            "Generated Caption: The image shows the first lady melania trump speaking at a podium. She is wearing a white dress and is smiling at the camera.\n",
            "Given Headline: Did Melania Trump 'Like' a Tweet Lampooning Her Relationship With President Trump? The personal Twitter account for Melania Trump 'liked' (then quickly 'unliked') a post speculating about her relationship with her husband. Dan Evon Published 3 May 2017 Share on Facebook Share on Twitter Share on Pinterest Share on Reddit Share via Email\n",
            "Cosine Similarity: 0.37595534324645996\n",
            "The image and the headline are likely consistent.\n",
            "Generated Caption: A map showing the distribution of the continents is displayed on a poster.\n",
            "Given Headline: Did Melania Trump 'Like' a Tweet Lampooning Her Relationship With President Trump? The personal Twitter account for Melania Trump 'liked' (then quickly 'unliked') a post speculating about her relationship with her husband. Dan Evon Published 3 May 2017 Share on Facebook Share on Twitter Share on Pinterest Share on Reddit Share via Email\n",
            "Cosine Similarity: -0.015465304255485535\n",
            "The image and the headline are likely not consistent.\n"
          ]
        }
      ]
    }
  ]
}